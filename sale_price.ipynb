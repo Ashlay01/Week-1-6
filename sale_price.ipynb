{
  "nbformat": 4,
  "nbformat_minor": 0,
  "metadata": {
    "colab": {
      "provenance": [],
      "include_colab_link": true
    },
    "kernelspec": {
      "name": "python3",
      "display_name": "Python 3"
    },
    "language_info": {
      "name": "python"
    }
  },
  "cells": [
    {
      "cell_type": "markdown",
      "metadata": {
        "id": "view-in-github",
        "colab_type": "text"
      },
      "source": [
        "<a href=\"https://colab.research.google.com/github/Ashlay01/Week-1-6/blob/main/sale_price.ipynb\" target=\"_parent\"><img src=\"https://colab.research.google.com/assets/colab-badge.svg\" alt=\"Open In Colab\"/></a>"
      ]
    },
    {
      "cell_type": "markdown",
      "metadata": {
        "id": "cgTeiXOtSPjH"
      },
      "source": [
        "# Sales Price\n",
        "\n",
        "A local department store needs to develop a program that will computer the total price (including goods and services tax) of the item on sale when given an item's original price and discount percentage.\n",
        "\n",
        "## Tasks\n",
        "* Save to Github\n",
        "* Design Algorithm\n",
        "* Write and test the program in Python"
      ]
    },
    {
      "cell_type": "code",
      "metadata": {
        "id": "pPIN2ZcrSqdw"
      },
      "source": [
        "#return discount_amt, tax_amt, final_price\n",
        "\n",
        "def final_price(original_price, discount_percentage, tax_rate):\n",
        "    discount_amount = original_price * discount_percentage / 100\n",
        "    discounted_price = original_price - discount_amount\n",
        "    tax_amount = discounted_price * tax_rate / 100\n",
        "    final_price = discounted_price + tax_amount\n",
        "    return final_price"
      ],
      "execution_count": null,
      "outputs": []
    },
    {
      "cell_type": "code",
      "source": [
        "def final_price(original_price, discount_percentage, tax_rate):\n",
        "    discounted_price = original_price * (1 - discount_percentage / 100)\n",
        "    final_price = discounted_price * (1 + tax_rate / 100)\n",
        "    return final_price\n",
        "\n",
        "original_price = 100\n",
        "discount_percentage = 25\n",
        "tax_rate = 22\n",
        "final_price = final_price(original_price, discount_percentage, tax_rate)\n",
        "print(final_price)  # Output: 91.5\n"
      ],
      "metadata": {
        "colab": {
          "base_uri": "https://localhost:8080/"
        },
        "id": "fBS6N9niZj-j",
        "outputId": "2291eeaa-db01-4fbc-8a81-3b521f21adc6"
      },
      "execution_count": null,
      "outputs": [
        {
          "output_type": "stream",
          "name": "stdout",
          "text": [
            "91.5\n"
          ]
        }
      ]
    }
  ]
}